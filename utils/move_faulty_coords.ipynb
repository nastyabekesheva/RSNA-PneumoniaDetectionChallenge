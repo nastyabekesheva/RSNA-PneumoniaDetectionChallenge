{
 "cells": [
  {
   "cell_type": "code",
   "execution_count": 67,
   "metadata": {
    "collapsed": true,
    "ExecuteTime": {
     "end_time": "2024-02-09T17:12:59.584185700Z",
     "start_time": "2024-02-09T17:12:59.393698600Z"
    }
   },
   "outputs": [],
   "source": [
    "from pathlib import Path\n",
    "import pandas as pd"
   ]
  },
  {
   "cell_type": "code",
   "execution_count": 68,
   "outputs": [
    {
     "name": "stdout",
     "output_type": "stream",
     "text": [
      "submission (18).csv\n"
     ]
    }
   ],
   "source": [
    "path = Path('./submissions/submission (18).csv')\n",
    "df = pd.read_csv(path)\n",
    "print(path.name)"
   ],
   "metadata": {
    "collapsed": false,
    "ExecuteTime": {
     "end_time": "2024-02-09T17:12:59.586185100Z",
     "start_time": "2024-02-09T17:12:59.417641Z"
    }
   }
  },
  {
   "cell_type": "code",
   "execution_count": 69,
   "outputs": [
    {
     "name": "stdout",
     "output_type": "stream",
     "text": [
      "<class 'pandas.core.frame.DataFrame'>\n",
      "RangeIndex: 3000 entries, 0 to 2999\n",
      "Data columns (total 2 columns):\n",
      " #   Column            Non-Null Count  Dtype \n",
      "---  ------            --------------  ----- \n",
      " 0   patientId         3000 non-null   object\n",
      " 1   PredictionString  956 non-null    object\n",
      "dtypes: object(2)\n",
      "memory usage: 47.0+ KB\n"
     ]
    }
   ],
   "source": [
    "df.info()"
   ],
   "metadata": {
    "collapsed": false,
    "ExecuteTime": {
     "end_time": "2024-02-09T17:12:59.599145600Z",
     "start_time": "2024-02-09T17:12:59.449547Z"
    }
   }
  },
  {
   "cell_type": "code",
   "execution_count": 70,
   "outputs": [
    {
     "data": {
      "text/plain": "2044"
     },
     "execution_count": 70,
     "metadata": {},
     "output_type": "execute_result"
    }
   ],
   "source": [
    "df['PredictionString'].isna().sum()"
   ],
   "metadata": {
    "collapsed": false,
    "ExecuteTime": {
     "end_time": "2024-02-09T17:12:59.601139800Z",
     "start_time": "2024-02-09T17:12:59.483456100Z"
    }
   }
  },
  {
   "cell_type": "code",
   "execution_count": 71,
   "outputs": [
    {
     "data": {
      "text/plain": "                                 patientId  \\\n10    002bcde0-d8da-4931-ab04-5d724e30261b   \n13    00330f7f-d114-4eb2-9c6e-558eeb3084a1   \n15    003d17f0-bd8a-485c-bc8b-daec33f53efa   \n18    003fbda2-ba55-4714-a03a-83f15bec19e4   \n21    0048e89e-f88a-41a1-b79f-ab4e7135627e   \n...                                    ...   \n2977  c1b2f938-49b9-4fe6-8251-b6c90622907b   \n2980  c1bea7c6-14cb-483c-b2ee-e958901f0667   \n2988  c1d9b4c9-39cc-4b37-b95b-82d26a1b68df   \n2989  c1db263b-5d0e-47f7-9093-b7ad5b2a4d2a   \n2995  c1e88810-9e4e-4f39-9306-8d314bfc1ff1   \n\n                                       PredictionString  \n10                     0.38 739.21 657.72 322.14 427.13  \n13    0.47 641.45 574.16 298.30 533.81 0.43 261.53 5...  \n15                     0.25 309.58 467.15 208.20 249.39  \n18    0.45 746.05 476.70 283.06 492.72 0.41 374.36 5...  \n21                     0.28 291.28 550.68 263.07 234.85  \n...                                                 ...  \n2977  0.33 862.63 670.94 268.79 403.86 0.29 491.04 7...  \n2980  0.40 253.33 563.77 228.06 500.10 0.30 641.34 5...  \n2988                   0.26 244.82 601.70 169.75 177.80  \n2989  0.32 377.28 545.79 200.55 229.58 0.29 750.60 5...  \n2995                   0.29 700.31 290.74 184.29 291.13  \n\n[956 rows x 2 columns]",
      "text/html": "<div>\n<style scoped>\n    .dataframe tbody tr th:only-of-type {\n        vertical-align: middle;\n    }\n\n    .dataframe tbody tr th {\n        vertical-align: top;\n    }\n\n    .dataframe thead th {\n        text-align: right;\n    }\n</style>\n<table border=\"1\" class=\"dataframe\">\n  <thead>\n    <tr style=\"text-align: right;\">\n      <th></th>\n      <th>patientId</th>\n      <th>PredictionString</th>\n    </tr>\n  </thead>\n  <tbody>\n    <tr>\n      <th>10</th>\n      <td>002bcde0-d8da-4931-ab04-5d724e30261b</td>\n      <td>0.38 739.21 657.72 322.14 427.13</td>\n    </tr>\n    <tr>\n      <th>13</th>\n      <td>00330f7f-d114-4eb2-9c6e-558eeb3084a1</td>\n      <td>0.47 641.45 574.16 298.30 533.81 0.43 261.53 5...</td>\n    </tr>\n    <tr>\n      <th>15</th>\n      <td>003d17f0-bd8a-485c-bc8b-daec33f53efa</td>\n      <td>0.25 309.58 467.15 208.20 249.39</td>\n    </tr>\n    <tr>\n      <th>18</th>\n      <td>003fbda2-ba55-4714-a03a-83f15bec19e4</td>\n      <td>0.45 746.05 476.70 283.06 492.72 0.41 374.36 5...</td>\n    </tr>\n    <tr>\n      <th>21</th>\n      <td>0048e89e-f88a-41a1-b79f-ab4e7135627e</td>\n      <td>0.28 291.28 550.68 263.07 234.85</td>\n    </tr>\n    <tr>\n      <th>...</th>\n      <td>...</td>\n      <td>...</td>\n    </tr>\n    <tr>\n      <th>2977</th>\n      <td>c1b2f938-49b9-4fe6-8251-b6c90622907b</td>\n      <td>0.33 862.63 670.94 268.79 403.86 0.29 491.04 7...</td>\n    </tr>\n    <tr>\n      <th>2980</th>\n      <td>c1bea7c6-14cb-483c-b2ee-e958901f0667</td>\n      <td>0.40 253.33 563.77 228.06 500.10 0.30 641.34 5...</td>\n    </tr>\n    <tr>\n      <th>2988</th>\n      <td>c1d9b4c9-39cc-4b37-b95b-82d26a1b68df</td>\n      <td>0.26 244.82 601.70 169.75 177.80</td>\n    </tr>\n    <tr>\n      <th>2989</th>\n      <td>c1db263b-5d0e-47f7-9093-b7ad5b2a4d2a</td>\n      <td>0.32 377.28 545.79 200.55 229.58 0.29 750.60 5...</td>\n    </tr>\n    <tr>\n      <th>2995</th>\n      <td>c1e88810-9e4e-4f39-9306-8d314bfc1ff1</td>\n      <td>0.29 700.31 290.74 184.29 291.13</td>\n    </tr>\n  </tbody>\n</table>\n<p>956 rows × 2 columns</p>\n</div>"
     },
     "execution_count": 71,
     "metadata": {},
     "output_type": "execute_result"
    }
   ],
   "source": [
    "df[df['PredictionString'].notna()]"
   ],
   "metadata": {
    "collapsed": false,
    "ExecuteTime": {
     "end_time": "2024-02-09T17:12:59.602137600Z",
     "start_time": "2024-02-09T17:12:59.497418600Z"
    }
   }
  },
  {
   "cell_type": "code",
   "execution_count": 72,
   "outputs": [
    {
     "data": {
      "text/plain": "pred_count\n0    2044\n1     544\n2     324\n3      71\n4      17\nName: count, dtype: int64"
     },
     "execution_count": 72,
     "metadata": {},
     "output_type": "execute_result"
    }
   ],
   "source": [
    "df['pred_count'] = df['PredictionString'].apply(lambda x: 0 if pd.isna(x) else int(len(x.split()) / 5))\n",
    "df['pred_count'].value_counts().sort_index()"
   ],
   "metadata": {
    "collapsed": false,
    "ExecuteTime": {
     "end_time": "2024-02-09T17:12:59.603134600Z",
     "start_time": "2024-02-09T17:12:59.527339300Z"
    }
   }
  },
  {
   "cell_type": "code",
   "execution_count": 73,
   "outputs": [],
   "source": [
    "df_part = df.query('pred_count > 0')"
   ],
   "metadata": {
    "collapsed": false,
    "ExecuteTime": {
     "end_time": "2024-02-09T17:12:59.603134600Z",
     "start_time": "2024-02-09T17:12:59.561246600Z"
    }
   }
  },
  {
   "cell_type": "code",
   "execution_count": 74,
   "outputs": [
    {
     "data": {
      "text/plain": "2624    0.29 668.78 658.13 219.27 370.53\nName: PredictionString, dtype: object"
     },
     "execution_count": 74,
     "metadata": {},
     "output_type": "execute_result"
    }
   ],
   "source": [
    "s = df_part['PredictionString'].sample()\n",
    "s"
   ],
   "metadata": {
    "collapsed": false,
    "ExecuteTime": {
     "end_time": "2024-02-09T17:12:59.610131400Z",
     "start_time": "2024-02-09T17:12:59.577203800Z"
    }
   }
  },
  {
   "cell_type": "code",
   "execution_count": 75,
   "outputs": [],
   "source": [
    "def move_coords(c: list) -> str:\n",
    "    c = list(map(float, c))\n",
    "\n",
    "    c[1] = c[1] - c[3] / 2\n",
    "    c[2] = c[2] - c[4] / 2\n",
    "\n",
    "    c = list(map(lambda s: f\"{s:.2f}\", c))\n",
    "\n",
    "    return ' '.join(c)\n",
    "\n",
    "\n",
    "def morph_prediction_string(s: str) -> str:\n",
    "    mc_list = []\n",
    "\n",
    "    if pd.isna(s):\n",
    "        return s\n",
    "    n = len(s.split()) // 5\n",
    "    for i in range(n):\n",
    "        coords = s.split()[i * 5:i * 5 + 5]\n",
    "        moved_coords = move_coords(coords)\n",
    "        mc_list.append(moved_coords)\n",
    "\n",
    "    return ' '.join(mc_list)\n"
   ],
   "metadata": {
    "collapsed": false,
    "ExecuteTime": {
     "end_time": "2024-02-09T17:12:59.785676600Z",
     "start_time": "2024-02-09T17:12:59.611114Z"
    }
   }
  },
  {
   "cell_type": "code",
   "execution_count": 76,
   "outputs": [
    {
     "data": {
      "text/plain": "'0.29 668.78 658.13 219.27 370.53'"
     },
     "execution_count": 76,
     "metadata": {},
     "output_type": "execute_result"
    }
   ],
   "source": [
    "s.values[0]"
   ],
   "metadata": {
    "collapsed": false,
    "ExecuteTime": {
     "end_time": "2024-02-09T17:12:59.808590500Z",
     "start_time": "2024-02-09T17:12:59.621088500Z"
    }
   }
  },
  {
   "cell_type": "code",
   "execution_count": 76,
   "outputs": [],
   "source": [],
   "metadata": {
    "collapsed": false,
    "ExecuteTime": {
     "end_time": "2024-02-09T17:12:59.809592300Z",
     "start_time": "2024-02-09T17:12:59.634055300Z"
    }
   }
  },
  {
   "cell_type": "code",
   "execution_count": 77,
   "outputs": [
    {
     "data": {
      "text/plain": "'0.29 559.14 472.87 219.27 370.53'"
     },
     "execution_count": 77,
     "metadata": {},
     "output_type": "execute_result"
    }
   ],
   "source": [
    "morph_prediction_string(s.values[0])"
   ],
   "metadata": {
    "collapsed": false,
    "ExecuteTime": {
     "end_time": "2024-02-09T17:12:59.810614100Z",
     "start_time": "2024-02-09T17:12:59.650009200Z"
    }
   }
  },
  {
   "cell_type": "code",
   "execution_count": 78,
   "outputs": [],
   "source": [
    "df['PredictionString'] = df['PredictionString'].apply(morph_prediction_string)"
   ],
   "metadata": {
    "collapsed": false,
    "ExecuteTime": {
     "end_time": "2024-02-09T17:12:59.865439800Z",
     "start_time": "2024-02-09T17:12:59.666965700Z"
    }
   }
  },
  {
   "cell_type": "code",
   "execution_count": 79,
   "outputs": [
    {
     "data": {
      "text/plain": "                                 patientId                  PredictionString  \\\n0     0000a175-0e68-4ca4-b1af-167204a7e0bc                               NaN   \n1     0005d3cc-3c3f-40b9-93c3-46231c3eb813                               NaN   \n2     000686d7-f4fc-448d-97a0-44fa9c5d3aa6                               NaN   \n3     000e3a7d-c0ca-4349-bb26-5af2d8993c3d                               NaN   \n4     00100a24-854d-423d-a092-edcf6179e061                               NaN   \n...                                    ...                               ...   \n2995  c1e88810-9e4e-4f39-9306-8d314bfc1ff1  0.29 608.16 145.18 184.29 291.13   \n2996  c1ec035b-377b-416c-a281-f868b7c9b6c3                               NaN   \n2997  c1ef5b66-0fd7-49d1-ae6b-5af84929414b                               NaN   \n2998  c1ef6724-f95f-40f1-b25b-de806d9bc39d                               NaN   \n2999  c1f55e7e-4065-4dc0-993e-a7c1704c6036                               NaN   \n\n      pred_count  \n0              0  \n1              0  \n2              0  \n3              0  \n4              0  \n...          ...  \n2995           1  \n2996           0  \n2997           0  \n2998           0  \n2999           0  \n\n[3000 rows x 3 columns]",
      "text/html": "<div>\n<style scoped>\n    .dataframe tbody tr th:only-of-type {\n        vertical-align: middle;\n    }\n\n    .dataframe tbody tr th {\n        vertical-align: top;\n    }\n\n    .dataframe thead th {\n        text-align: right;\n    }\n</style>\n<table border=\"1\" class=\"dataframe\">\n  <thead>\n    <tr style=\"text-align: right;\">\n      <th></th>\n      <th>patientId</th>\n      <th>PredictionString</th>\n      <th>pred_count</th>\n    </tr>\n  </thead>\n  <tbody>\n    <tr>\n      <th>0</th>\n      <td>0000a175-0e68-4ca4-b1af-167204a7e0bc</td>\n      <td>NaN</td>\n      <td>0</td>\n    </tr>\n    <tr>\n      <th>1</th>\n      <td>0005d3cc-3c3f-40b9-93c3-46231c3eb813</td>\n      <td>NaN</td>\n      <td>0</td>\n    </tr>\n    <tr>\n      <th>2</th>\n      <td>000686d7-f4fc-448d-97a0-44fa9c5d3aa6</td>\n      <td>NaN</td>\n      <td>0</td>\n    </tr>\n    <tr>\n      <th>3</th>\n      <td>000e3a7d-c0ca-4349-bb26-5af2d8993c3d</td>\n      <td>NaN</td>\n      <td>0</td>\n    </tr>\n    <tr>\n      <th>4</th>\n      <td>00100a24-854d-423d-a092-edcf6179e061</td>\n      <td>NaN</td>\n      <td>0</td>\n    </tr>\n    <tr>\n      <th>...</th>\n      <td>...</td>\n      <td>...</td>\n      <td>...</td>\n    </tr>\n    <tr>\n      <th>2995</th>\n      <td>c1e88810-9e4e-4f39-9306-8d314bfc1ff1</td>\n      <td>0.29 608.16 145.18 184.29 291.13</td>\n      <td>1</td>\n    </tr>\n    <tr>\n      <th>2996</th>\n      <td>c1ec035b-377b-416c-a281-f868b7c9b6c3</td>\n      <td>NaN</td>\n      <td>0</td>\n    </tr>\n    <tr>\n      <th>2997</th>\n      <td>c1ef5b66-0fd7-49d1-ae6b-5af84929414b</td>\n      <td>NaN</td>\n      <td>0</td>\n    </tr>\n    <tr>\n      <th>2998</th>\n      <td>c1ef6724-f95f-40f1-b25b-de806d9bc39d</td>\n      <td>NaN</td>\n      <td>0</td>\n    </tr>\n    <tr>\n      <th>2999</th>\n      <td>c1f55e7e-4065-4dc0-993e-a7c1704c6036</td>\n      <td>NaN</td>\n      <td>0</td>\n    </tr>\n  </tbody>\n</table>\n<p>3000 rows × 3 columns</p>\n</div>"
     },
     "execution_count": 79,
     "metadata": {},
     "output_type": "execute_result"
    }
   ],
   "source": [
    "df"
   ],
   "metadata": {
    "collapsed": false,
    "ExecuteTime": {
     "end_time": "2024-02-09T17:12:59.913308500Z",
     "start_time": "2024-02-09T17:12:59.728800800Z"
    }
   }
  },
  {
   "cell_type": "code",
   "execution_count": 80,
   "outputs": [],
   "source": [
    "df.drop(columns='pred_count').to_csv(path.with_name(path.stem+'_morphed.csv'), index=False)"
   ],
   "metadata": {
    "collapsed": false,
    "ExecuteTime": {
     "end_time": "2024-02-09T17:13:00.101747800Z",
     "start_time": "2024-02-09T17:12:59.746755200Z"
    }
   }
  },
  {
   "cell_type": "code",
   "execution_count": 81,
   "outputs": [
    {
     "data": {
      "text/plain": "WindowsPath('submissions/submission (18)_morphed.csv')"
     },
     "execution_count": 81,
     "metadata": {},
     "output_type": "execute_result"
    }
   ],
   "source": [
    "path.with_name(path.stem+'_morphed.csv')"
   ],
   "metadata": {
    "collapsed": false,
    "ExecuteTime": {
     "end_time": "2024-02-09T17:13:00.103741500Z",
     "start_time": "2024-02-09T17:12:59.891366900Z"
    }
   }
  },
  {
   "cell_type": "code",
   "execution_count": 81,
   "outputs": [],
   "source": [],
   "metadata": {
    "collapsed": false,
    "ExecuteTime": {
     "end_time": "2024-02-09T17:13:00.132692800Z",
     "start_time": "2024-02-09T17:12:59.905327500Z"
    }
   }
  }
 ],
 "metadata": {
  "kernelspec": {
   "display_name": "Python 3",
   "language": "python",
   "name": "python3"
  },
  "language_info": {
   "codemirror_mode": {
    "name": "ipython",
    "version": 2
   },
   "file_extension": ".py",
   "mimetype": "text/x-python",
   "name": "python",
   "nbconvert_exporter": "python",
   "pygments_lexer": "ipython2",
   "version": "2.7.6"
  }
 },
 "nbformat": 4,
 "nbformat_minor": 0
}
