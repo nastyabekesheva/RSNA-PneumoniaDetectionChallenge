{
 "cells": [
  {
   "cell_type": "code",
   "execution_count": 1,
   "metadata": {},
   "outputs": [
    {
     "name": "stdout",
     "output_type": "stream",
     "text": [
      "                                     filename  \\\n",
      "0    000db696-cf54-4385-b10b-6b16fbb3f985.txt   \n",
      "1    0174c4bb-28f5-41e3-a13f-a396badc18bd.txt   \n",
      "2    01be392f-a46d-4aef-a57e-9cd1a80dd47e.txt   \n",
      "3    01d4fa0f-97a0-4522-b0d8-134400db2a3e.txt   \n",
      "4    020380f8-5c5a-4ded-bdf3-9ce3036945b4.txt   \n",
      "..                                        ...   \n",
      "602  fde83ad1-3d9e-4a66-8f10-bb6ead510d52.txt   \n",
      "603  fdf8ddd5-3794-4387-9051-6647f1952b36.txt   \n",
      "604  fea6191a-f4d4-4cc6-8bf7-5e81bd097209.txt   \n",
      "605  ff40a703-b1db-48d5-a176-0b50763f9a0a.txt   \n",
      "606  ff9d37d1-3660-4187-8f57-d31f9c91a3fd.txt   \n",
      "\n",
      "                                         file_contents  \n",
      "0    0 0.3916015625 0.5439453125 0.166015625 0.4667...  \n",
      "1    0 0.28466796875 0.42236328125 0.2666015625 0.4...  \n",
      "2    0 0.60888671875 0.728515625 0.1728515625 0.234...  \n",
      "3    0 0.3115234375 0.46484375 0.189453125 0.425781...  \n",
      "4    0 0.35302734375 0.57568359375 0.1533203125 0.2...  \n",
      "..                                                 ...  \n",
      "602  0 0.35546875 0.35791015625 0.18359375 0.299804...  \n",
      "603  0 0.35009765625 0.43701171875 0.1748046875 0.1...  \n",
      "604    0 0.30859375 0.5048828125 0.15625 0.380859375\\n  \n",
      "605  0 0.6826171875 0.4541015625 0.166015625 0.4082...  \n",
      "606  0 0.28955078125 0.6708984375 0.2021484375 0.25...  \n",
      "\n",
      "[607 rows x 2 columns]\n"
     ]
    }
   ],
   "source": [
    "import os\n",
    "import pandas as pd\n",
    "\n",
    "folder_path = \"./dataset/labels/val\"\n",
    "\n",
    "file_names = []\n",
    "file_contents = []\n",
    "\n",
    "for file_name in os.listdir(folder_path):\n",
    "    if file_name.endswith(\".txt\"):\n",
    "        with open(os.path.join(folder_path, file_name), \"r\") as file:\n",
    "            content = file.read()\n",
    "        file_names.append(file_name)\n",
    "        file_contents.append(content)\n",
    "\n",
    "df = pd.DataFrame({\"filename\": file_names, \"file_contents\": file_contents})\n",
    "\n",
    "print(df)\n"
   ]
  },
  {
   "cell_type": "code",
   "execution_count": 2,
   "metadata": {},
   "outputs": [],
   "source": [
    "import numpy as np\n",
    "def iou(box1, box2):\n",
    "    x11, y11, w1, h1 = box1\n",
    "    x21, y21, w2, h2 = box2\n",
    "    assert w1 * h1 > 0\n",
    "    assert w2 * h2 > 0\n",
    "    x12, y12 = x11 + w1, y11 + h1\n",
    "    x22, y22 = x21 + w2, y21 + h2\n",
    "\n",
    "    area1, area2 = w1 * h1, w2 * h2\n",
    "    xi1, yi1, xi2, yi2 = max([x11, x21]), max([y11, y21]), min([x12, x22]), min([y12, y22])\n",
    "    \n",
    "    if xi2 <= xi1 or yi2 <= yi1:\n",
    "        return 0\n",
    "    else:\n",
    "        intersect = (xi2-xi1) * (yi2-yi1)\n",
    "        union = area1 + area2 - intersect\n",
    "        return intersect / union"
   ]
  },
  {
   "cell_type": "code",
   "execution_count": 3,
   "metadata": {},
   "outputs": [],
   "source": [
    "def translate_bbox(bbox):\n",
    "    img_size = 1024 # rsna defualt image size\n",
    "    \n",
    "    top_left_x = bbox[0]\n",
    "    top_left_y = bbox[1]\n",
    "    absolute_w = bbox[2]\n",
    "    absolute_h = bbox[3]\n",
    "\n",
    "    relative_w = absolute_w / img_size\n",
    "    relative_h = absolute_h / img_size\n",
    "    \n",
    "    relative_x = top_left_x / img_size + relative_w / 2\n",
    "    relative_y = top_left_y / img_size + relative_h / 2\n",
    "    \n",
    "    return relative_x, relative_y, relative_w, relative_h\n",
    "    \n",
    "def revert_bbox(rx, ry, rw, rh):\n",
    "    img_size = 1024 # rsna defualt image size\n",
    "    \n",
    "    x = (rx-rw/2)*img_size\n",
    "    y = (ry-rh/2)*img_size\n",
    "    w = rw*img_size\n",
    "    h = rh*img_size\n",
    "    \n",
    "    return x, y, w, h"
   ]
  },
  {
   "cell_type": "code",
   "execution_count": 4,
   "metadata": {},
   "outputs": [],
   "source": [
    "def evaluate(filename, xywh):\n",
    "    target_str = df[df['filename'] == filename]\n",
    "    if target_str == '':\n",
    "        return 0\n",
    "    elements = target_str.split()\n",
    "    sublists = [elements[i:i+5] for i in range(0, len(elements), 5)]\n",
    "    bbox_targets = [tuple(map(float, sublist[-4:])) for sublist in sublists]\n",
    "    result = []\n",
    "    for bbox_target in bbox_targets:\n",
    "        bbox1 = translate_bbox(bbox_target)\n",
    "        bbox2 = translate_bbox(xywh)\n",
    "        result.append(iou(bbox1, bbox2))\n",
    "\n",
    "    return max(result)\n",
    "    "
   ]
  },
  {
   "cell_type": "code",
   "execution_count": 5,
   "metadata": {},
   "outputs": [],
   "source": [
    "thresholds = [0.4, 0.45, 0.5, 0.55, 0.6, 0.65, 0.7, 0.75]\n",
    "def average_precision(filename, xywh):\n",
    "    result = evaluate(filename, xywh)\n",
    "    precision_values = []\n",
    "    for t in thresholds:\n",
    "        tp = 0\n",
    "        fn = 0\n",
    "        fp = 0\n",
    "        for res in result:\n",
    "            if res >= t:\n",
    "                tp += 1\n",
    "            else:\n",
    "                fn += 1\n",
    "        fp += len(result) - tp\n",
    "        precision_values = tp / (tp + fp + fn)\n",
    "            \n",
    "    return sum(precision_values) / len(thresholds)"
   ]
  },
  {
   "cell_type": "code",
   "execution_count": null,
   "metadata": {},
   "outputs": [],
   "source": []
  }
 ],
 "metadata": {
  "kernelspec": {
   "display_name": "Python 3",
   "language": "python",
   "name": "python3"
  },
  "language_info": {
   "codemirror_mode": {
    "name": "ipython",
    "version": 3
   },
   "file_extension": ".py",
   "mimetype": "text/x-python",
   "name": "python",
   "nbconvert_exporter": "python",
   "pygments_lexer": "ipython3",
   "version": "3.8.10"
  }
 },
 "nbformat": 4,
 "nbformat_minor": 2
}
