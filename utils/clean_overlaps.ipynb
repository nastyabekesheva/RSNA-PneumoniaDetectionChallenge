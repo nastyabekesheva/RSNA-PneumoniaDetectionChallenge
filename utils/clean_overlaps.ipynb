{
 "cells": [
  {
   "cell_type": "code",
   "execution_count": 1,
   "metadata": {
    "ExecuteTime": {
     "end_time": "2024-02-10T14:39:33.875788600Z",
     "start_time": "2024-02-10T14:39:33.848918300Z"
    },
    "collapsed": true
   },
   "outputs": [],
   "source": [
    "from pathlib import Path\n",
    "import pandas as pd\n",
    "import matplotlib.pyplot as plt\n",
    "import matplotlib.patches as patches\n",
    "from PIL import Image"
   ]
  },
  {
   "cell_type": "code",
   "execution_count": 43,
   "metadata": {
    "ExecuteTime": {
     "end_time": "2024-02-10T14:39:33.945788100Z",
     "start_time": "2024-02-10T14:39:33.860794Z"
    },
    "collapsed": false
   },
   "outputs": [
    {
     "name": "stdout",
     "output_type": "stream",
     "text": [
      "submission_latest.csv\n"
     ]
    }
   ],
   "source": [
    "path = Path('../submissions/submission_latest.csv')\n",
    "df = pd.read_csv(path)\n",
    "print(path.name)"
   ]
  },
  {
   "cell_type": "code",
   "execution_count": 44,
   "metadata": {
    "ExecuteTime": {
     "end_time": "2024-02-10T14:39:33.945788100Z",
     "start_time": "2024-02-10T14:39:33.892788100Z"
    },
    "collapsed": false
   },
   "outputs": [
    {
     "name": "stdout",
     "output_type": "stream",
     "text": [
      "<class 'pandas.core.frame.DataFrame'>\n",
      "RangeIndex: 3000 entries, 0 to 2999\n",
      "Data columns (total 2 columns):\n",
      " #   Column            Non-Null Count  Dtype \n",
      "---  ------            --------------  ----- \n",
      " 0   patientId         3000 non-null   object\n",
      " 1   PredictionString  1371 non-null   object\n",
      "dtypes: object(2)\n",
      "memory usage: 47.0+ KB\n"
     ]
    }
   ],
   "source": [
    "df.info()"
   ]
  },
  {
   "cell_type": "code",
   "execution_count": 45,
   "metadata": {
    "ExecuteTime": {
     "end_time": "2024-02-10T14:39:33.946786500Z",
     "start_time": "2024-02-10T14:39:33.913798300Z"
    },
    "collapsed": false
   },
   "outputs": [
    {
     "data": {
      "text/plain": [
       "pred_count\n",
       "0    1629\n",
       "1     735\n",
       "2     477\n",
       "3     146\n",
       "4      12\n",
       "5       1\n",
       "Name: count, dtype: int64"
      ]
     },
     "execution_count": 45,
     "metadata": {},
     "output_type": "execute_result"
    }
   ],
   "source": [
    "df['pred_count'] = df['PredictionString'].apply(lambda x: 0 if pd.isna(x) else int(len(x.split()) / 5))\n",
    "df['pred_count'].value_counts().sort_index()"
   ]
  },
  {
   "cell_type": "code",
   "execution_count": 46,
   "metadata": {
    "ExecuteTime": {
     "end_time": "2024-02-10T14:39:33.946786500Z",
     "start_time": "2024-02-10T14:39:33.934955800Z"
    },
    "collapsed": false
   },
   "outputs": [],
   "source": [
    "def str_to_boxes(s: str) -> list:  # return c,x,y,w,h\n",
    "    if pd.isna(s) or len(s) == 0:\n",
    "        return []\n",
    "\n",
    "    boxes = []\n",
    "    n = len(s.split()) // 5\n",
    "    for i in range(n):\n",
    "        box = s.split()[i * 5:i * 5 + 5]\n",
    "        boxes.append(list(map(float, box)))\n",
    "\n",
    "    return boxes\n"
   ]
  },
  {
   "cell_type": "code",
   "execution_count": 47,
   "metadata": {
    "ExecuteTime": {
     "end_time": "2024-02-10T14:39:33.955822600Z",
     "start_time": "2024-02-10T14:39:33.941787500Z"
    },
    "collapsed": false
   },
   "outputs": [],
   "source": [
    "def remove_empty_boxes(s: str) -> str:\n",
    "    if pd.isna(s) or len(s) == 0:\n",
    "        return s\n",
    "\n",
    "    n = len(s.split()) // 5\n",
    "    data = s.split()\n",
    "    for i in range(n):\n",
    "        box = data[i * 5:i * 5 + 5]\n",
    "        if float(box[2]) * float(box[3]) == 0:\n",
    "            s = s.replace(' '.join(map(str, box)), '').strip()\n",
    "\n",
    "    return s"
   ]
  },
  {
   "cell_type": "code",
   "execution_count": 48,
   "metadata": {
    "ExecuteTime": {
     "end_time": "2024-02-10T14:39:34.013829700Z",
     "start_time": "2024-02-10T14:39:33.961790400Z"
    },
    "collapsed": false
   },
   "outputs": [],
   "source": [
    "df['PredictionString'] = df['PredictionString'].apply(remove_empty_boxes)"
   ]
  },
  {
   "cell_type": "code",
   "execution_count": 49,
   "metadata": {
    "ExecuteTime": {
     "end_time": "2024-02-10T14:39:34.029787500Z",
     "start_time": "2024-02-10T14:39:33.983794800Z"
    },
    "collapsed": false
   },
   "outputs": [],
   "source": [
    "def box_areas_utils(box1, box2):  # corner coords\n",
    "    _, left_x1, left_y1, w1, h1 = box1\n",
    "    _, left_x2, left_y2, w2, h2 = box2\n",
    "\n",
    "    assert w1 * h1 * w2 * h2 > 0, 'w or h is 0'\n",
    "\n",
    "    right_x1, right_x2 = left_x1 + w1, left_x2 + w2\n",
    "    top_y1, top_y2 = left_y1 + h1, left_y2 + h2\n",
    "\n",
    "    area1, area2 = w1 * h1, w2 * h2\n",
    "    right_xi = min(right_x1, right_x2)\n",
    "    left_xi = max(left_x1, left_x2)\n",
    "    top_yi = min(top_y1, top_y2)\n",
    "    bottom_yi = max(left_y1, left_y2)\n",
    "\n",
    "    if right_xi <= left_xi or top_yi <= bottom_yi:\n",
    "        intersection = 0\n",
    "    else:\n",
    "        intersection = (right_xi - left_xi) * (top_yi - bottom_yi)\n",
    "\n",
    "    union = area1 + area2 - intersection\n",
    "    return area1, area2, intersection, union\n",
    "\n",
    "\n",
    "def iou(box1, box2):\n",
    "    area1, area2, intersection, union = box_areas_utils(box1, box2)\n",
    "    return intersection / union\n",
    "\n",
    "\n",
    "def two_boxes_overlap(box1, box2) -> bool:\n",
    "    return iou(box1, box2) > 0.3\n",
    "\n",
    "\n",
    "def one_box_inside_another(box1, box2) -> bool:\n",
    "    area1, area2, intersection, union = box_areas_utils(box1, box2)\n",
    "    return intersection / area1 > 0.7 or intersection / area2 > 0.7\n",
    "\n",
    "\n",
    "def merge_boxes(box1, box2) -> (float, float, float, float, float):  # c,x,y,w,h - bottom left corner (0,0)\n",
    "    c1, x1, y1, w1, h1 = box1\n",
    "    c2, x2, y2, w2, h2 = box2\n",
    "    min_x, min_y = min([x1, x2]), min([y1, y2])\n",
    "    max_x, max_y = max([x1 + w1, x2 + w2]), max([y1 + h1, y2 + h2])\n",
    "\n",
    "    w, h = max_x - min_x, max_y - min_y\n",
    "    # reduce w, h by 10%\n",
    "    dw, dh = w * 0.05, h * 0.05\n",
    "    w, h = w * 0.9, h * 0.9\n",
    "\n",
    "    return (c1 + c2) / 2, (x1 + x2) / 2, (y1 + y2) / 2, (w1+w2) / 2, (h1+h2) / 2\n",
    "\n",
    "\n",
    "def detect_overlapping(s: str, type='both') -> bool:\n",
    "    if pd.isna(s):\n",
    "        return False\n",
    "\n",
    "    n = len(s.split()) // 5\n",
    "    for i in range(n):\n",
    "        box1 = list(map(float, s.split()[i * 5:i * 5 + 5]))\n",
    "        for j in range(n):\n",
    "            if i == j:\n",
    "                continue\n",
    "            box2 = list(map(float, s.split()[j * 5:j * 5 + 5]))\n",
    "\n",
    "            if type == 'both':\n",
    "                if two_boxes_overlap(box1, box2) or one_box_inside_another(box1, box2):\n",
    "                    return True\n",
    "            elif type == 'overlap':\n",
    "                if two_boxes_overlap(box1, box2) and not one_box_inside_another(box1, box2):\n",
    "                    return True\n",
    "            elif type == 'inside':\n",
    "                if one_box_inside_another(box1, box2):\n",
    "                    return True\n",
    "\n",
    "    return False\n",
    "\n",
    "\n",
    "def merge_overlapping(s: str) -> str:\n",
    "    if pd.isna(s):\n",
    "        return s\n",
    "\n",
    "    boxes = str_to_boxes(s)\n",
    "\n",
    "    for i in range(len(boxes)):\n",
    "        for j in range(i + 1, len(boxes)):\n",
    "            if boxes[i] is None or boxes[j] is None:\n",
    "                continue\n",
    "            if two_boxes_overlap(boxes[i], boxes[j]) or \\\n",
    "                    one_box_inside_another(boxes[i], boxes[j]):\n",
    "                boxes[i] = merge_boxes(boxes[i], boxes[j])\n",
    "                boxes[j] = None\n",
    "\n",
    "    return ' '.join([' '.join(map(str, c)) for c in boxes if c is not None]).strip()\n",
    "\n"
   ]
  },
  {
   "cell_type": "code",
   "execution_count": 50,
   "metadata": {
    "ExecuteTime": {
     "end_time": "2024-02-10T14:39:34.076927300Z",
     "start_time": "2024-02-10T14:39:34.029787500Z"
    },
    "collapsed": false
   },
   "outputs": [
    {
     "name": "stdout",
     "output_type": "stream",
     "text": [
      "overlaps\n",
      "False    1369\n",
      "True        2\n",
      "Name: count, dtype: int64\n",
      "inside_box\n",
      "False    1134\n",
      "True      237\n",
      "Name: count, dtype: int64\n"
     ]
    }
   ],
   "source": [
    "df['overlaps'] = df['PredictionString'].apply(lambda s: detect_overlapping(s, type='overlap'));\n",
    "df['inside_box'] = df['PredictionString'].apply(lambda s: detect_overlapping(s, type='inside'));\n",
    "print(df.query('pred_count>0')['overlaps'].value_counts())\n",
    "print(df.query('pred_count>0')['inside_box'].value_counts())"
   ]
  },
  {
   "cell_type": "code",
   "execution_count": 51,
   "metadata": {
    "ExecuteTime": {
     "end_time": "2024-02-10T14:39:34.088786900Z",
     "start_time": "2024-02-10T14:39:34.049796600Z"
    },
    "collapsed": false
   },
   "outputs": [
    {
     "data": {
      "text/plain": [
       "pred_count\n",
       "3    2\n",
       "Name: count, dtype: int64"
      ]
     },
     "execution_count": 51,
     "metadata": {},
     "output_type": "execute_result"
    }
   ],
   "source": [
    "df[df['overlaps']]['pred_count'].value_counts().sort_index()"
   ]
  },
  {
   "cell_type": "code",
   "execution_count": 52,
   "metadata": {
    "ExecuteTime": {
     "end_time": "2024-02-10T14:39:34.090785900Z",
     "start_time": "2024-02-10T14:39:34.076927300Z"
    },
    "collapsed": false
   },
   "outputs": [],
   "source": [
    "df['PredictionString_'] = df['PredictionString']"
   ]
  },
  {
   "cell_type": "code",
   "execution_count": 53,
   "metadata": {
    "ExecuteTime": {
     "end_time": "2024-02-10T14:39:50.520850200Z",
     "start_time": "2024-02-10T14:39:50.226406100Z"
    },
    "collapsed": false
   },
   "outputs": [
    {
     "ename": "FileNotFoundError",
     "evalue": "[Errno 2] No such file or directory: '../dataset/12228fee-ec17-4d76-945d-cb7fc0e9c3c5.jpg'",
     "output_type": "error",
     "traceback": [
      "\u001b[1;31m---------------------------------------------------------------------------\u001b[0m",
      "\u001b[1;31mFileNotFoundError\u001b[0m                         Traceback (most recent call last)",
      "Cell \u001b[1;32mIn[53], line 3\u001b[0m\n\u001b[0;32m      1\u001b[0m s \u001b[38;5;241m=\u001b[39m df\u001b[38;5;241m.\u001b[39mquery(\u001b[38;5;124m'\u001b[39m\u001b[38;5;124minside_box\u001b[39m\u001b[38;5;124m'\u001b[39m)\u001b[38;5;241m.\u001b[39msample(\u001b[38;5;241m1\u001b[39m)\u001b[38;5;241m.\u001b[39miloc[\u001b[38;5;241m0\u001b[39m]\n\u001b[1;32m----> 3\u001b[0m img \u001b[38;5;241m=\u001b[39m \u001b[43mImage\u001b[49m\u001b[38;5;241;43m.\u001b[39;49m\u001b[43mopen\u001b[49m\u001b[43m(\u001b[49m\u001b[38;5;124;43mf\u001b[39;49m\u001b[38;5;124;43m'\u001b[39;49m\u001b[38;5;124;43m../dataset/\u001b[39;49m\u001b[38;5;132;43;01m{\u001b[39;49;00m\u001b[43ms\u001b[49m\u001b[43m[\u001b[49m\u001b[38;5;124;43m\"\u001b[39;49m\u001b[38;5;124;43mpatientId\u001b[39;49m\u001b[38;5;124;43m\"\u001b[39;49m\u001b[43m]\u001b[49m\u001b[38;5;132;43;01m}\u001b[39;49;00m\u001b[38;5;124;43m.jpg\u001b[39;49m\u001b[38;5;124;43m'\u001b[39;49m\u001b[43m)\u001b[49m\n\u001b[0;32m      4\u001b[0m img \u001b[38;5;241m=\u001b[39m img\u001b[38;5;241m.\u001b[39mconvert(\u001b[38;5;124m'\u001b[39m\u001b[38;5;124mRGB\u001b[39m\u001b[38;5;124m'\u001b[39m)\n\u001b[0;32m      5\u001b[0m ax \u001b[38;5;241m=\u001b[39m plt\u001b[38;5;241m.\u001b[39mgca()\n",
      "File \u001b[1;32mc:\\Users\\vladi\\Projects\\Python Projects\\repos\\RSNA Pneumonia Detection\\.env\\lib\\site-packages\\PIL\\Image.py:3247\u001b[0m, in \u001b[0;36mopen\u001b[1;34m(fp, mode, formats)\u001b[0m\n\u001b[0;32m   3244\u001b[0m     filename \u001b[38;5;241m=\u001b[39m fp\n\u001b[0;32m   3246\u001b[0m \u001b[38;5;28;01mif\u001b[39;00m filename:\n\u001b[1;32m-> 3247\u001b[0m     fp \u001b[38;5;241m=\u001b[39m \u001b[43mbuiltins\u001b[49m\u001b[38;5;241;43m.\u001b[39;49m\u001b[43mopen\u001b[49m\u001b[43m(\u001b[49m\u001b[43mfilename\u001b[49m\u001b[43m,\u001b[49m\u001b[43m \u001b[49m\u001b[38;5;124;43m\"\u001b[39;49m\u001b[38;5;124;43mrb\u001b[39;49m\u001b[38;5;124;43m\"\u001b[39;49m\u001b[43m)\u001b[49m\n\u001b[0;32m   3248\u001b[0m     exclusive_fp \u001b[38;5;241m=\u001b[39m \u001b[38;5;28;01mTrue\u001b[39;00m\n\u001b[0;32m   3250\u001b[0m \u001b[38;5;28;01mtry\u001b[39;00m:\n",
      "\u001b[1;31mFileNotFoundError\u001b[0m: [Errno 2] No such file or directory: '../dataset/12228fee-ec17-4d76-945d-cb7fc0e9c3c5.jpg'"
     ]
    }
   ],
   "source": [
    "s = df.query('inside_box').sample(1).iloc[0]\n",
    "\n",
    "img = Image.open(f'../dataset/{s[\"patientId\"]}.jpg')\n",
    "img = img.convert('RGB')\n",
    "ax = plt.gca()\n",
    "boxes = str_to_boxes(s['PredictionString_'])\n",
    "for b in boxes:\n",
    "    rect = patches.Rectangle((b[1], b[2]), b[3], b[4], linewidth=1, edgecolor='r', facecolor='none')\n",
    "    ax.add_patch(rect)\n",
    "\n",
    "fixed_s = merge_overlapping(s['PredictionString_'])\n",
    "boxes_fixed = str_to_boxes(fixed_s)\n",
    "for b in boxes_fixed:\n",
    "    rect = patches.Rectangle((b[1], b[2]), b[3], b[4], linewidth=1, edgecolor='b', facecolor='none', linestyle=':')\n",
    "    ax.add_patch(rect)\n",
    "plt.imshow(img);"
   ]
  },
  {
   "cell_type": "code",
   "execution_count": 54,
   "metadata": {
    "ExecuteTime": {
     "end_time": "2024-02-10T14:39:34.463785700Z",
     "start_time": "2024-02-10T14:39:34.416789Z"
    },
    "collapsed": false
   },
   "outputs": [],
   "source": [
    "df['PredictionString'] = df['PredictionString'].apply(merge_overlapping)"
   ]
  },
  {
   "cell_type": "code",
   "execution_count": 55,
   "metadata": {
    "ExecuteTime": {
     "end_time": "2024-02-10T14:39:34.478786400Z",
     "start_time": "2024-02-10T14:39:34.448787600Z"
    },
    "collapsed": false
   },
   "outputs": [],
   "source": [
    "df[['patientId', 'PredictionString']].to_csv(path.with_name(path.stem + '_overlap_cleaned.csv'), index=False)"
   ]
  },
  {
   "cell_type": "code",
   "execution_count": 56,
   "metadata": {
    "ExecuteTime": {
     "end_time": "2024-02-10T14:39:34.522787100Z",
     "start_time": "2024-02-10T14:39:34.481789600Z"
    },
    "collapsed": false
   },
   "outputs": [
    {
     "data": {
      "text/plain": [
       "WindowsPath('../submissions/submission_latest_overlap_cleaned.csv')"
      ]
     },
     "execution_count": 56,
     "metadata": {},
     "output_type": "execute_result"
    }
   ],
   "source": [
    "path.with_name(path.stem + '_overlap_cleaned.csv')"
   ]
  },
  {
   "cell_type": "code",
   "execution_count": null,
   "metadata": {
    "ExecuteTime": {
     "end_time": "2024-02-10T14:39:34.532785200Z",
     "start_time": "2024-02-10T14:39:34.496789200Z"
    },
    "collapsed": false
   },
   "outputs": [],
   "source": []
  },
  {
   "cell_type": "code",
   "execution_count": null,
   "metadata": {},
   "outputs": [],
   "source": []
  },
  {
   "cell_type": "code",
   "execution_count": null,
   "metadata": {},
   "outputs": [],
   "source": []
  }
 ],
 "metadata": {
  "kernelspec": {
   "display_name": "Python 3",
   "language": "python",
   "name": "python3"
  },
  "language_info": {
   "codemirror_mode": {
    "name": "ipython",
    "version": 2
   },
   "file_extension": ".py",
   "mimetype": "text/x-python",
   "name": "python",
   "nbconvert_exporter": "python",
   "pygments_lexer": "ipython2",
   "version": "3.8.10"
  }
 },
 "nbformat": 4,
 "nbformat_minor": 0
}
