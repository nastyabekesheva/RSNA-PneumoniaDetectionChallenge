{
 "cells": [
  {
   "cell_type": "code",
   "execution_count": null,
   "metadata": {},
   "outputs": [],
   "source": [
    "import os\n",
    "import pandas as pd\n",
    "\n",
    "folder_path = \"./dataset/labels/val\"\n",
    "\n",
    "file_names = []\n",
    "file_contents = []\n",
    "\n",
    "for file_name in os.listdir(folder_path):\n",
    "    if file_name.endswith(\".txt\"):\n",
    "        with open(os.path.join(folder_path, file_name), \"r\") as file:\n",
    "            content = file.read()\n",
    "        file_names.append(file_name)\n",
    "        file_contents.append(content)\n",
    "\n",
    "df = pd.DataFrame({\"filename\": file_names, \"file_contents\": file_contents})\n",
    "\n",
    "print(df)\n"
   ]
  },
  {
   "cell_type": "code",
   "execution_count": 1,
   "metadata": {},
   "outputs": [],
   "source": [
    "import numpy as np\n",
    "def iou(box1, box2):\n",
    "    x11, y11, w1, h1 = box1\n",
    "    x21, y21, w2, h2 = box2\n",
    "    assert w1 * h1 > 0\n",
    "    assert w2 * h2 > 0\n",
    "    x12, y12 = x11 + w1, y11 + h1\n",
    "    x22, y22 = x21 + w2, y21 + h2\n",
    "\n",
    "    area1, area2 = w1 * h1, w2 * h2\n",
    "    xi1, yi1, xi2, yi2 = max([x11, x21]), max([y11, y21]), min([x12, x22]), min([y12, y22])\n",
    "    \n",
    "    if xi2 <= xi1 or yi2 <= yi1:\n",
    "        return 0\n",
    "    else:\n",
    "        intersect = (xi2-xi1) * (yi2-yi1)\n",
    "        union = area1 + area2 - intersect\n",
    "        return intersect / union"
   ]
  },
  {
   "cell_type": "code",
   "execution_count": 2,
   "metadata": {},
   "outputs": [],
   "source": [
    "def translate_bbox(bbox):\n",
    "    img_size = 1024 # rsna defualt image size\n",
    "    \n",
    "    top_left_x = bbox[0]\n",
    "    top_left_y = bbox[1]\n",
    "    absolute_w = bbox[2]\n",
    "    absolute_h = bbox[3]\n",
    "\n",
    "    relative_w = absolute_w / img_size\n",
    "    relative_h = absolute_h / img_size\n",
    "    \n",
    "    relative_x = top_left_x / img_size + relative_w / 2\n",
    "    relative_y = top_left_y / img_size + relative_h / 2\n",
    "    \n",
    "    return relative_x, relative_y, relative_w, relative_h\n",
    "    \n",
    "def revert_bbox(rx, ry, rw, rh):\n",
    "    img_size = 1024 # rsna defualt image size\n",
    "    \n",
    "    x = (rx-rw/2)*img_size\n",
    "    y = (ry-rh/2)*img_size\n",
    "    w = rw*img_size\n",
    "    h = rh*img_size\n",
    "    \n",
    "    return x, y, w, h"
   ]
  },
  {
   "cell_type": "code",
   "execution_count": null,
   "metadata": {},
   "outputs": [],
   "source": [
    "def evaluate(filename, xywh):\n",
    "    target_str = df[df['filename'] == filename]\n",
    "    if target_str == '':\n",
    "        return 0\n",
    "    elements = target_str.split()\n",
    "    sublists = [elements[i:i+5] for i in range(0, len(elements), 5)]\n",
    "    bbox_targets = [tuple(map(float, sublist[-4:])) for sublist in sublists]\n",
    "    result = []\n",
    "    for bbox_target in bbox_targets:\n",
    "        bbox1 = translate_bbox(bbox_target)\n",
    "        bbox2 = translate_bbox(xywh)\n",
    "        result.append(iou(bbox1, bbox2))\n",
    "\n",
    "    return max(result)\n",
    "    "
   ]
  }
 ],
 "metadata": {
  "kernelspec": {
   "display_name": "Python 3",
   "language": "python",
   "name": "python3"
  },
  "language_info": {
   "codemirror_mode": {
    "name": "ipython",
    "version": 3
   },
   "file_extension": ".py",
   "mimetype": "text/x-python",
   "name": "python",
   "nbconvert_exporter": "python",
   "pygments_lexer": "ipython3",
   "version": "3.11.4"
  }
 },
 "nbformat": 4,
 "nbformat_minor": 2
}
