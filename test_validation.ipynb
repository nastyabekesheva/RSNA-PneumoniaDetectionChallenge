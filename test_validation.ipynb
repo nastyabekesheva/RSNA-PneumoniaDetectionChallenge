{
 "metadata": {
  "kernelspec": {
   "language": "python",
   "display_name": "Python 3",
   "name": "python3"
  },
  "language_info": {
   "name": "python",
   "version": "3.10.13",
   "mimetype": "text/x-python",
   "codemirror_mode": {
    "name": "ipython",
    "version": 3
   },
   "pygments_lexer": "ipython3",
   "nbconvert_exporter": "python",
   "file_extension": ".py"
  },
  "kaggle": {
   "accelerator": "gpu",
   "dataSources": [
    {
     "sourceId": 10338,
     "databundleVersionId": 862042,
     "sourceType": "competition"
    }
   ],
   "dockerImageVersionId": 30646,
   "isInternetEnabled": true,
   "language": "python",
   "sourceType": "notebook",
   "isGpuEnabled": true
  }
 },
 "nbformat_minor": 4,
 "nbformat": 4,
 "cells": [
  {
   "cell_type": "code",
   "source": [
    "!pip install ultralytics;"
   ],
   "metadata": {
    "execution": {
     "iopub.status.busy": "2024-02-09T15:27:11.583211Z",
     "iopub.execute_input": "2024-02-09T15:27:11.583917Z",
     "iopub.status.idle": "2024-02-09T15:27:25.908046Z",
     "shell.execute_reply.started": "2024-02-09T15:27:11.583859Z",
     "shell.execute_reply": "2024-02-09T15:27:25.907067Z"
    },
    "trusted": true
   },
   "execution_count": 1,
   "outputs": [
    {
     "name": "stdout",
     "text": "Collecting ultralytics\n  Downloading ultralytics-8.1.11-py3-none-any.whl.metadata (40 kB)\n\u001B[2K     \u001B[90m━━━━━━━━━━━━━━━━━━━━━━━━━━━━━━━━━━━━━━━━\u001B[0m \u001B[32m40.2/40.2 kB\u001B[0m \u001B[31m1.4 MB/s\u001B[0m eta \u001B[36m0:00:00\u001B[0m\n\u001B[?25hRequirement already satisfied: matplotlib>=3.3.0 in /opt/conda/lib/python3.10/site-packages (from ultralytics) (3.7.4)\nRequirement already satisfied: numpy>=1.22.2 in /opt/conda/lib/python3.10/site-packages (from ultralytics) (1.24.4)\nRequirement already satisfied: opencv-python>=4.6.0 in /opt/conda/lib/python3.10/site-packages (from ultralytics) (4.9.0.80)\nRequirement already satisfied: pillow>=7.1.2 in /opt/conda/lib/python3.10/site-packages (from ultralytics) (9.5.0)\nRequirement already satisfied: pyyaml>=5.3.1 in /opt/conda/lib/python3.10/site-packages (from ultralytics) (6.0.1)\nRequirement already satisfied: requests>=2.23.0 in /opt/conda/lib/python3.10/site-packages (from ultralytics) (2.31.0)\nRequirement already satisfied: scipy>=1.4.1 in /opt/conda/lib/python3.10/site-packages (from ultralytics) (1.11.4)\nRequirement already satisfied: torch>=1.8.0 in /opt/conda/lib/python3.10/site-packages (from ultralytics) (2.1.2)\nRequirement already satisfied: torchvision>=0.9.0 in /opt/conda/lib/python3.10/site-packages (from ultralytics) (0.16.2)\nRequirement already satisfied: tqdm>=4.64.0 in /opt/conda/lib/python3.10/site-packages (from ultralytics) (4.66.1)\nRequirement already satisfied: psutil in /opt/conda/lib/python3.10/site-packages (from ultralytics) (5.9.3)\nRequirement already satisfied: py-cpuinfo in /opt/conda/lib/python3.10/site-packages (from ultralytics) (9.0.0)\nCollecting thop>=0.1.1 (from ultralytics)\n  Downloading thop-0.1.1.post2209072238-py3-none-any.whl (15 kB)\nRequirement already satisfied: pandas>=1.1.4 in /opt/conda/lib/python3.10/site-packages (from ultralytics) (2.1.4)\nRequirement already satisfied: seaborn>=0.11.0 in /opt/conda/lib/python3.10/site-packages (from ultralytics) (0.12.2)\nRequirement already satisfied: contourpy>=1.0.1 in /opt/conda/lib/python3.10/site-packages (from matplotlib>=3.3.0->ultralytics) (1.2.0)\nRequirement already satisfied: cycler>=0.10 in /opt/conda/lib/python3.10/site-packages (from matplotlib>=3.3.0->ultralytics) (0.12.1)\nRequirement already satisfied: fonttools>=4.22.0 in /opt/conda/lib/python3.10/site-packages (from matplotlib>=3.3.0->ultralytics) (4.47.0)\nRequirement already satisfied: kiwisolver>=1.0.1 in /opt/conda/lib/python3.10/site-packages (from matplotlib>=3.3.0->ultralytics) (1.4.5)\nRequirement already satisfied: packaging>=20.0 in /opt/conda/lib/python3.10/site-packages (from matplotlib>=3.3.0->ultralytics) (21.3)\nRequirement already satisfied: pyparsing>=2.3.1 in /opt/conda/lib/python3.10/site-packages (from matplotlib>=3.3.0->ultralytics) (3.1.1)\nRequirement already satisfied: python-dateutil>=2.7 in /opt/conda/lib/python3.10/site-packages (from matplotlib>=3.3.0->ultralytics) (2.8.2)\nRequirement already satisfied: pytz>=2020.1 in /opt/conda/lib/python3.10/site-packages (from pandas>=1.1.4->ultralytics) (2023.3.post1)\nRequirement already satisfied: tzdata>=2022.1 in /opt/conda/lib/python3.10/site-packages (from pandas>=1.1.4->ultralytics) (2023.4)\nRequirement already satisfied: charset-normalizer<4,>=2 in /opt/conda/lib/python3.10/site-packages (from requests>=2.23.0->ultralytics) (3.3.2)\nRequirement already satisfied: idna<4,>=2.5 in /opt/conda/lib/python3.10/site-packages (from requests>=2.23.0->ultralytics) (3.6)\nRequirement already satisfied: urllib3<3,>=1.21.1 in /opt/conda/lib/python3.10/site-packages (from requests>=2.23.0->ultralytics) (1.26.18)\nRequirement already satisfied: certifi>=2017.4.17 in /opt/conda/lib/python3.10/site-packages (from requests>=2.23.0->ultralytics) (2023.11.17)\nRequirement already satisfied: filelock in /opt/conda/lib/python3.10/site-packages (from torch>=1.8.0->ultralytics) (3.13.1)\nRequirement already satisfied: typing-extensions in /opt/conda/lib/python3.10/site-packages (from torch>=1.8.0->ultralytics) (4.9.0)\nRequirement already satisfied: sympy in /opt/conda/lib/python3.10/site-packages (from torch>=1.8.0->ultralytics) (1.12)\nRequirement already satisfied: networkx in /opt/conda/lib/python3.10/site-packages (from torch>=1.8.0->ultralytics) (3.2.1)\nRequirement already satisfied: jinja2 in /opt/conda/lib/python3.10/site-packages (from torch>=1.8.0->ultralytics) (3.1.2)\nRequirement already satisfied: fsspec in /opt/conda/lib/python3.10/site-packages (from torch>=1.8.0->ultralytics) (2023.12.2)\nRequirement already satisfied: six>=1.5 in /opt/conda/lib/python3.10/site-packages (from python-dateutil>=2.7->matplotlib>=3.3.0->ultralytics) (1.16.0)\nRequirement already satisfied: MarkupSafe>=2.0 in /opt/conda/lib/python3.10/site-packages (from jinja2->torch>=1.8.0->ultralytics) (2.1.3)\nRequirement already satisfied: mpmath>=0.19 in /opt/conda/lib/python3.10/site-packages (from sympy->torch>=1.8.0->ultralytics) (1.3.0)\nDownloading ultralytics-8.1.11-py3-none-any.whl (709 kB)\n\u001B[2K   \u001B[90m━━━━━━━━━━━━━━━━━━━━━━━━━━━━━━━━━━━━━━━━\u001B[0m \u001B[32m709.5/709.5 kB\u001B[0m \u001B[31m13.5 MB/s\u001B[0m eta \u001B[36m0:00:00\u001B[0m00:01\u001B[0m\n\u001B[?25hInstalling collected packages: thop, ultralytics\nSuccessfully installed thop-0.1.1.post2209072238 ultralytics-8.1.11\n",
     "output_type": "stream"
    }
   ]
  },
  {
   "cell_type": "code",
   "source": [
    "import numpy as np\n",
    "import pandas as pd\n",
    "import os\n",
    "import sys\n",
    "import math\n",
    "import random\n",
    "import shutil\n",
    "\n",
    "import cv2\n",
    "import pydicom\n",
    "from PIL import Image\n",
    "\n",
    "import matplotlib.pyplot as plt\n",
    "import seaborn as sns\n",
    "import glob\n",
    "from sklearn.model_selection import train_test_split\n",
    "from tqdm import tqdm\n",
    "\n",
    "from ultralytics import YOLO\n",
    "\n",
    "np.random.seed(42)"
   ],
   "metadata": {
    "execution": {
     "iopub.status.busy": "2024-02-09T15:27:25.910327Z",
     "iopub.execute_input": "2024-02-09T15:27:25.910706Z",
     "iopub.status.idle": "2024-02-09T15:27:35.052080Z",
     "shell.execute_reply.started": "2024-02-09T15:27:25.910669Z",
     "shell.execute_reply": "2024-02-09T15:27:35.051098Z"
    },
    "trusted": true
   },
   "execution_count": 2,
   "outputs": []
  },
  {
   "cell_type": "code",
   "source": [
    "# shutil.rmtree('/kaggle/working/')"
   ],
   "metadata": {
    "execution": {
     "iopub.status.busy": "2024-02-09T15:27:35.053247Z",
     "iopub.execute_input": "2024-02-09T15:27:35.053672Z",
     "iopub.status.idle": "2024-02-09T15:27:35.058803Z",
     "shell.execute_reply.started": "2024-02-09T15:27:35.053647Z",
     "shell.execute_reply": "2024-02-09T15:27:35.057555Z"
    },
    "trusted": true
   },
   "execution_count": 3,
   "outputs": []
  },
  {
   "cell_type": "code",
   "source": [
    "CSV_FILE = '../input/rsna-pneumonia-detection-challenge/stage_2_train_labels.csv'\n",
    "TRAIN_SRC_DIR = '../input/rsna-pneumonia-detection-challenge/stage_2_train_images/'\n",
    "TEST_SRC_DIR = '../input/rsna-pneumonia-detection-challenge/stage_2_test_images/'\n",
    "DATASET_DIR = './dataset/'\n",
    "TEST_IMG_DIR = 'test_images/'\n",
    "\n",
    "os.mkdir(DATASET_DIR)\n",
    "os.mkdir(DATASET_DIR + 'images/')\n",
    "os.mkdir(DATASET_DIR + 'images/train/')\n",
    "os.mkdir(DATASET_DIR + 'images/val/')\n",
    "os.mkdir(DATASET_DIR + 'images/test/')\n",
    "os.mkdir(DATASET_DIR + 'labels/')\n",
    "os.mkdir(DATASET_DIR + 'labels/train/')\n",
    "os.mkdir(DATASET_DIR + 'labels/val/')\n",
    "os.mkdir(DATASET_DIR + 'labels/test/')\n",
    "os.mkdir(TEST_IMG_DIR)"
   ],
   "metadata": {
    "execution": {
     "iopub.status.busy": "2024-02-09T15:27:35.061921Z",
     "iopub.execute_input": "2024-02-09T15:27:35.062267Z",
     "iopub.status.idle": "2024-02-09T15:27:35.083637Z",
     "shell.execute_reply.started": "2024-02-09T15:27:35.062236Z",
     "shell.execute_reply": "2024-02-09T15:27:35.082872Z"
    },
    "trusted": true
   },
   "execution_count": 4,
   "outputs": []
  },
  {
   "cell_type": "markdown",
   "source": [
    "# Prepare images and labels for training"
   ],
   "metadata": {}
  },
  {
   "cell_type": "code",
   "source": [
    "annotations = pd.read_csv(CSV_FILE)\n",
    "print(annotations.info())\n",
    "annotations.head()"
   ],
   "metadata": {
    "execution": {
     "iopub.status.busy": "2024-02-09T15:27:35.084520Z",
     "iopub.execute_input": "2024-02-09T15:27:35.084777Z",
     "iopub.status.idle": "2024-02-09T15:27:35.187258Z",
     "shell.execute_reply.started": "2024-02-09T15:27:35.084756Z",
     "shell.execute_reply": "2024-02-09T15:27:35.186342Z"
    },
    "trusted": true
   },
   "execution_count": 5,
   "outputs": [
    {
     "name": "stdout",
     "text": "<class 'pandas.core.frame.DataFrame'>\nRangeIndex: 30227 entries, 0 to 30226\nData columns (total 6 columns):\n #   Column     Non-Null Count  Dtype  \n---  ------     --------------  -----  \n 0   patientId  30227 non-null  object \n 1   x          9555 non-null   float64\n 2   y          9555 non-null   float64\n 3   width      9555 non-null   float64\n 4   height     9555 non-null   float64\n 5   Target     30227 non-null  int64  \ndtypes: float64(4), int64(1), object(1)\nmemory usage: 1.4+ MB\nNone\n",
     "output_type": "stream"
    },
    {
     "execution_count": 5,
     "output_type": "execute_result",
     "data": {
      "text/plain": "                              patientId      x      y  width  height  Target\n0  0004cfab-14fd-4e49-80ba-63a80b6bddd6    NaN    NaN    NaN     NaN       0\n1  00313ee0-9eaa-42f4-b0ab-c148ed3241cd    NaN    NaN    NaN     NaN       0\n2  00322d4d-1c29-4943-afc9-b6754be640eb    NaN    NaN    NaN     NaN       0\n3  003d8fa0-6bf1-40ed-b54c-ac657f8495c5    NaN    NaN    NaN     NaN       0\n4  00436515-870c-4b36-a041-de91049b9ab4  264.0  152.0  213.0   379.0       1",
      "text/html": "<div>\n<style scoped>\n    .dataframe tbody tr th:only-of-type {\n        vertical-align: middle;\n    }\n\n    .dataframe tbody tr th {\n        vertical-align: top;\n    }\n\n    .dataframe thead th {\n        text-align: right;\n    }\n</style>\n<table border=\"1\" class=\"dataframe\">\n  <thead>\n    <tr style=\"text-align: right;\">\n      <th></th>\n      <th>patientId</th>\n      <th>x</th>\n      <th>y</th>\n      <th>width</th>\n      <th>height</th>\n      <th>Target</th>\n    </tr>\n  </thead>\n  <tbody>\n    <tr>\n      <th>0</th>\n      <td>0004cfab-14fd-4e49-80ba-63a80b6bddd6</td>\n      <td>NaN</td>\n      <td>NaN</td>\n      <td>NaN</td>\n      <td>NaN</td>\n      <td>0</td>\n    </tr>\n    <tr>\n      <th>1</th>\n      <td>00313ee0-9eaa-42f4-b0ab-c148ed3241cd</td>\n      <td>NaN</td>\n      <td>NaN</td>\n      <td>NaN</td>\n      <td>NaN</td>\n      <td>0</td>\n    </tr>\n    <tr>\n      <th>2</th>\n      <td>00322d4d-1c29-4943-afc9-b6754be640eb</td>\n      <td>NaN</td>\n      <td>NaN</td>\n      <td>NaN</td>\n      <td>NaN</td>\n      <td>0</td>\n    </tr>\n    <tr>\n      <th>3</th>\n      <td>003d8fa0-6bf1-40ed-b54c-ac657f8495c5</td>\n      <td>NaN</td>\n      <td>NaN</td>\n      <td>NaN</td>\n      <td>NaN</td>\n      <td>0</td>\n    </tr>\n    <tr>\n      <th>4</th>\n      <td>00436515-870c-4b36-a041-de91049b9ab4</td>\n      <td>264.0</td>\n      <td>152.0</td>\n      <td>213.0</td>\n      <td>379.0</td>\n      <td>1</td>\n    </tr>\n  </tbody>\n</table>\n</div>"
     },
     "metadata": {}
    }
   ]
  },
  {
   "cell_type": "code",
   "source": [
    "annotations.Target.value_counts(dropna=False)"
   ],
   "metadata": {
    "execution": {
     "iopub.status.busy": "2024-02-09T15:27:35.188453Z",
     "iopub.execute_input": "2024-02-09T15:27:35.188754Z",
     "iopub.status.idle": "2024-02-09T15:27:35.197400Z",
     "shell.execute_reply.started": "2024-02-09T15:27:35.188730Z",
     "shell.execute_reply": "2024-02-09T15:27:35.196465Z"
    },
    "trusted": true
   },
   "execution_count": 6,
   "outputs": [
    {
     "execution_count": 6,
     "output_type": "execute_result",
     "data": {
      "text/plain": "Target\n0    20672\n1     9555\nName: count, dtype: int64"
     },
     "metadata": {}
    }
   ]
  },
  {
   "cell_type": "code",
   "source": [
    "positive_annotations = annotations[annotations.Target == 1]\n",
    "negative_annotations = annotations[annotations.Target == 0]\n",
    "\n",
    "print('total  pneumo: ', positive_annotations['patientId'].shape[0])\n",
    "print('unique pneumo: ', positive_annotations['patientId'].drop_duplicates().shape[0])\n",
    "print('unique healthy:', negative_annotations['patientId'].shape[0])\n",
    "assert negative_annotations['patientId'].shape[0] == negative_annotations['patientId'].drop_duplicates().shape[0]\n",
    "\n",
    "negative_sample = negative_annotations.sample(600, random_state=42)\n",
    "negative_sample['patientId'].shape[0]\n",
    "\n",
    "annotations = pd.concat([positive_annotations, negative_sample])\n",
    "print('\\nupdated set:', annotations.shape)\n",
    "print(annotations.Target.value_counts())\n",
    "annotations.head()"
   ],
   "metadata": {
    "execution": {
     "iopub.status.busy": "2024-02-09T15:27:35.198608Z",
     "iopub.execute_input": "2024-02-09T15:27:35.198970Z",
     "iopub.status.idle": "2024-02-09T15:27:35.231783Z",
     "shell.execute_reply.started": "2024-02-09T15:27:35.198938Z",
     "shell.execute_reply": "2024-02-09T15:27:35.230919Z"
    },
    "trusted": true
   },
   "execution_count": 7,
   "outputs": [
    {
     "name": "stdout",
     "text": "total  pneumo:  9555\nunique pneumo:  6012\nunique healthy: 20672\n\nupdated set: (10155, 6)\nTarget\n1    9555\n0     600\nName: count, dtype: int64\n",
     "output_type": "stream"
    },
    {
     "execution_count": 7,
     "output_type": "execute_result",
     "data": {
      "text/plain": "                               patientId      x      y  width  height  Target\n4   00436515-870c-4b36-a041-de91049b9ab4  264.0  152.0  213.0   379.0       1\n5   00436515-870c-4b36-a041-de91049b9ab4  562.0  152.0  256.0   453.0       1\n8   00704310-78a8-4b38-8475-49f4573b2dbb  323.0  577.0  160.0   104.0       1\n9   00704310-78a8-4b38-8475-49f4573b2dbb  695.0  575.0  162.0   137.0       1\n14  00aecb01-a116-45a2-956c-08d2fa55433f  288.0  322.0   94.0   135.0       1",
      "text/html": "<div>\n<style scoped>\n    .dataframe tbody tr th:only-of-type {\n        vertical-align: middle;\n    }\n\n    .dataframe tbody tr th {\n        vertical-align: top;\n    }\n\n    .dataframe thead th {\n        text-align: right;\n    }\n</style>\n<table border=\"1\" class=\"dataframe\">\n  <thead>\n    <tr style=\"text-align: right;\">\n      <th></th>\n      <th>patientId</th>\n      <th>x</th>\n      <th>y</th>\n      <th>width</th>\n      <th>height</th>\n      <th>Target</th>\n    </tr>\n  </thead>\n  <tbody>\n    <tr>\n      <th>4</th>\n      <td>00436515-870c-4b36-a041-de91049b9ab4</td>\n      <td>264.0</td>\n      <td>152.0</td>\n      <td>213.0</td>\n      <td>379.0</td>\n      <td>1</td>\n    </tr>\n    <tr>\n      <th>5</th>\n      <td>00436515-870c-4b36-a041-de91049b9ab4</td>\n      <td>562.0</td>\n      <td>152.0</td>\n      <td>256.0</td>\n      <td>453.0</td>\n      <td>1</td>\n    </tr>\n    <tr>\n      <th>8</th>\n      <td>00704310-78a8-4b38-8475-49f4573b2dbb</td>\n      <td>323.0</td>\n      <td>577.0</td>\n      <td>160.0</td>\n      <td>104.0</td>\n      <td>1</td>\n    </tr>\n    <tr>\n      <th>9</th>\n      <td>00704310-78a8-4b38-8475-49f4573b2dbb</td>\n      <td>695.0</td>\n      <td>575.0</td>\n      <td>162.0</td>\n      <td>137.0</td>\n      <td>1</td>\n    </tr>\n    <tr>\n      <th>14</th>\n      <td>00aecb01-a116-45a2-956c-08d2fa55433f</td>\n      <td>288.0</td>\n      <td>322.0</td>\n      <td>94.0</td>\n      <td>135.0</td>\n      <td>1</td>\n    </tr>\n  </tbody>\n</table>\n</div>"
     },
     "metadata": {}
    }
   ]
  },
  {
   "cell_type": "code",
   "source": [
    "annotations.groupby(by='patientId')['x'].count().value_counts().sort_index() # number of boxes per img"
   ],
   "metadata": {
    "execution": {
     "iopub.status.busy": "2024-02-09T15:27:35.232997Z",
     "iopub.execute_input": "2024-02-09T15:27:35.233353Z",
     "iopub.status.idle": "2024-02-09T15:27:35.250766Z",
     "shell.execute_reply.started": "2024-02-09T15:27:35.233321Z",
     "shell.execute_reply": "2024-02-09T15:27:35.249951Z"
    },
    "trusted": true
   },
   "execution_count": 8,
   "outputs": [
    {
     "execution_count": 8,
     "output_type": "execute_result",
     "data": {
      "text/plain": "x\n0     600\n1    2614\n2    3266\n3     119\n4      13\nName: count, dtype: int64"
     },
     "metadata": {}
    }
   ]
  },
  {
   "cell_type": "code",
   "source": [
    "patient_id_target = annotations[['patientId', 'Target']].drop_duplicates().set_index('patientId')\n",
    "patient_id_target;"
   ],
   "metadata": {
    "execution": {
     "iopub.status.busy": "2024-02-09T15:27:35.252004Z",
     "iopub.execute_input": "2024-02-09T15:27:35.252262Z",
     "iopub.status.idle": "2024-02-09T15:27:35.262201Z",
     "shell.execute_reply.started": "2024-02-09T15:27:35.252241Z",
     "shell.execute_reply": "2024-02-09T15:27:35.261383Z"
    },
    "trusted": true
   },
   "execution_count": 9,
   "outputs": []
  },
  {
   "cell_type": "code",
   "source": [
    "patient_id_series = annotations.patientId.drop_duplicates()\n",
    "print('Number of images:', patient_id_series.size)\n",
    "\n",
    "train_series, val_test_split = train_test_split(patient_id_series, test_size=0.2, random_state=42, \n",
    "                                                stratify = patient_id_target.loc[patient_id_series].Target) # 80/20\n",
    "val_series, test_series = train_test_split(val_test_split, test_size=0.5, random_state=42,\n",
    "                                          stratify = patient_id_target.loc[val_test_split].Target) # [80/] 10/10\n",
    "\n",
    "print('Train set len:', len(train_series))\n",
    "print('Validation set len:', len(val_series))\n",
    "print('Test set len:', len(test_series))"
   ],
   "metadata": {
    "execution": {
     "iopub.status.busy": "2024-02-09T15:27:35.264878Z",
     "iopub.execute_input": "2024-02-09T15:27:35.265169Z",
     "iopub.status.idle": "2024-02-09T15:27:35.285240Z",
     "shell.execute_reply.started": "2024-02-09T15:27:35.265147Z",
     "shell.execute_reply": "2024-02-09T15:27:35.284156Z"
    },
    "trusted": true
   },
   "execution_count": 10,
   "outputs": [
    {
     "name": "stdout",
     "text": "Number of images: 6612\nTrain set len: 5289\nValidation set len: 661\nTest set len: 662\n",
     "output_type": "stream"
    }
   ]
  },
  {
   "cell_type": "code",
   "source": [
    "for patient_id in tqdm(train_series):\n",
    "    src_path = TRAIN_SRC_DIR + patient_id + '.dcm'\n",
    "    dcm_data = pydicom.dcmread(src_path)\n",
    "    image_array = dcm_data.pixel_array\n",
    "    image = Image.fromarray(image_array)\n",
    "    image.save(DATASET_DIR + 'images/train/' + patient_id + '.jpg')\n",
    "print('Images moved to train folder:', len(os.listdir(DATASET_DIR + 'images/train/')))\n",
    "    \n",
    "for patient_id in tqdm(val_series):\n",
    "    src_path = TRAIN_SRC_DIR + patient_id + '.dcm'\n",
    "    dcm_data = pydicom.dcmread(src_path)\n",
    "    image_array = dcm_data.pixel_array\n",
    "    image = Image.fromarray(image_array)\n",
    "    image.save(DATASET_DIR + 'images/val/' + patient_id + '.jpg')\n",
    "print('Images moved to val folder:', len(os.listdir(DATASET_DIR + 'images/val/')))\n",
    "\n",
    "for patient_id in tqdm(test_series):\n",
    "    src_path = TRAIN_SRC_DIR + patient_id + '.dcm'\n",
    "    dcm_data = pydicom.dcmread(src_path)\n",
    "    image_array = dcm_data.pixel_array\n",
    "    image = Image.fromarray(image_array)\n",
    "    image.save(DATASET_DIR + 'images/test/' + patient_id + '.jpg')\n",
    "print('Images moved to test folder:', len(os.listdir(DATASET_DIR + 'images/test/')))"
   ],
   "metadata": {
    "execution": {
     "iopub.status.busy": "2024-02-09T15:27:47.588064Z",
     "iopub.execute_input": "2024-02-09T15:27:47.589443Z",
     "iopub.status.idle": "2024-02-09T15:29:14.610873Z",
     "shell.execute_reply.started": "2024-02-09T15:27:47.589389Z",
     "shell.execute_reply": "2024-02-09T15:29:14.609923Z"
    },
    "trusted": true
   },
   "execution_count": 11,
   "outputs": [
    {
     "name": "stderr",
     "text": "100%|██████████| 5289/5289 [01:09<00:00, 76.02it/s]\n",
     "output_type": "stream"
    },
    {
     "name": "stdout",
     "text": "Images moved to train folder: 5289\n",
     "output_type": "stream"
    },
    {
     "name": "stderr",
     "text": "100%|██████████| 661/661 [00:08<00:00, 76.39it/s]\n",
     "output_type": "stream"
    },
    {
     "name": "stdout",
     "text": "Images moved to val folder: 661\n",
     "output_type": "stream"
    },
    {
     "name": "stderr",
     "text": "100%|██████████| 662/662 [00:08<00:00, 75.50it/s]",
     "output_type": "stream"
    },
    {
     "name": "stdout",
     "text": "Images moved to test folder: 662\n",
     "output_type": "stream"
    },
    {
     "name": "stderr",
     "text": "\n",
     "output_type": "stream"
    }
   ]
  },
  {
   "cell_type": "code",
   "source": [
    "def translate_bbox(bbox):\n",
    "    img_size = 1024 # rsna defualt image size\n",
    "    \n",
    "    top_left_x = bbox[0]\n",
    "    top_left_y = bbox[1]\n",
    "    absolute_w = bbox[2]\n",
    "    absolute_h = bbox[3]\n",
    "\n",
    "    relative_w = absolute_w / img_size\n",
    "    relative_h = absolute_h / img_size\n",
    "    \n",
    "    relative_x = top_left_x / img_size + relative_w / 2\n",
    "    relative_y = top_left_y / img_size + relative_h / 2\n",
    "    \n",
    "    return relative_x, relative_y, relative_w, relative_h\n",
    "    \n",
    "def revert_bbox(rx, ry, rw, rh):\n",
    "    img_size = 1024 # rsna defualt image size\n",
    "    \n",
    "    x = (rx-rw/2)*img_size\n",
    "    y = (ry-rh/2)*img_size\n",
    "    w = rw*img_size\n",
    "    h = rh*img_size\n",
    "    \n",
    "    return x, y, w, h\n",
    "    \n",
    "    \n",
    "def save_label(label_dir, patient_id, bbox):\n",
    "    label_fp = os.path.join(label_dir, patient_id + '.txt')\n",
    "    \n",
    "    f = open(label_fp, \"a\")\n",
    "    if (bbox == 'nan').all():\n",
    "        f.close()\n",
    "        return\n",
    "    \n",
    "    x, y, w, h = translate_bbox(bbox)\n",
    "    \n",
    "    line = f\"0 {x} {y} {w} {h}\\n\"\n",
    "    \n",
    "    f.write(line)\n",
    "    f.close()"
   ],
   "metadata": {
    "execution": {
     "iopub.status.busy": "2024-02-09T15:39:55.339482Z",
     "iopub.execute_input": "2024-02-09T15:39:55.340729Z",
     "iopub.status.idle": "2024-02-09T15:39:55.351106Z",
     "shell.execute_reply.started": "2024-02-09T15:39:55.340691Z",
     "shell.execute_reply": "2024-02-09T15:39:55.349953Z"
    },
    "trusted": true
   },
   "execution_count": 15,
   "outputs": []
  },
  {
   "cell_type": "code",
   "source": [
    "LABELS_DIR = \"./labels_temp/\"\n",
    "os.mkdir(LABELS_DIR)\n",
    "\n",
    "for row in annotations.values:\n",
    "    if pd.notna(row[1:5]).all():\n",
    "        save_label(LABELS_DIR, row[0], row[1:5])\n",
    "    \n",
    "for patient_id in train_series:\n",
    "    if os.path.isfile(LABELS_DIR + patient_id + '.txt'):\n",
    "        shutil.copy(LABELS_DIR + patient_id + '.txt', DATASET_DIR + 'labels/train/')\n",
    "    \n",
    "for patient_id in val_series:\n",
    "    if os.path.isfile(LABELS_DIR + patient_id + '.txt'):\n",
    "        shutil.copy(LABELS_DIR + patient_id + '.txt', DATASET_DIR + 'labels/val/')\n",
    "        \n",
    "for patient_id in test_series:\n",
    "    if os.path.isfile(LABELS_DIR + patient_id + '.txt'):\n",
    "        shutil.copy(LABELS_DIR + patient_id + '.txt', DATASET_DIR + 'labels/test/')\n",
    "    \n",
    "shutil.rmtree(LABELS_DIR)"
   ],
   "metadata": {
    "execution": {
     "iopub.status.busy": "2024-02-09T15:40:21.610875Z",
     "iopub.execute_input": "2024-02-09T15:40:21.611249Z",
     "iopub.status.idle": "2024-02-09T15:40:23.308763Z",
     "shell.execute_reply.started": "2024-02-09T15:40:21.611221Z",
     "shell.execute_reply": "2024-02-09T15:40:23.307886Z"
    },
    "trusted": true
   },
   "execution_count": 18,
   "outputs": []
  },
  {
   "cell_type": "code",
   "source": [
    "shutil.make_archive('runs_archive', 'zip', f'{DATASET_DIR}')"
   ],
   "metadata": {
    "execution": {
     "iopub.status.busy": "2024-02-09T15:40:44.042756Z",
     "iopub.execute_input": "2024-02-09T15:40:44.043612Z",
     "iopub.status.idle": "2024-02-09T15:41:04.469836Z",
     "shell.execute_reply.started": "2024-02-09T15:40:44.043581Z",
     "shell.execute_reply": "2024-02-09T15:41:04.468645Z"
    },
    "trusted": true
   },
   "execution_count": 19,
   "outputs": [
    {
     "execution_count": 19,
     "output_type": "execute_result",
     "data": {
      "text/plain": "'/kaggle/working/runs_archive.zip'"
     },
     "metadata": {}
    }
   ]
  }
 ]
}
