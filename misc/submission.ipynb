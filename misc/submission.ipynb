{
 "cells": [
  {
   "cell_type": "code",
   "execution_count": 3,
   "metadata": {},
   "outputs": [],
   "source": [
    "import numpy as np\n",
    "import pandas as pd\n",
    "import os\n",
    "import sys\n",
    "import math\n",
    "import random\n",
    "import shutil\n",
    "\n",
    "import cv2\n",
    "import pydicom\n",
    "from PIL import Image\n",
    "\n",
    "import matplotlib.pyplot as plt\n",
    "import seaborn as sns\n",
    "import glob\n",
    "from sklearn.model_selection import train_test_split\n",
    "from tqdm import tqdm\n",
    "\n",
    "from ultralytics import YOLO\n",
    "# import wandb\n",
    "\n",
    "np.random.seed(42)"
   ]
  },
  {
   "cell_type": "code",
   "execution_count": 9,
   "metadata": {},
   "outputs": [
    {
     "name": "stdout",
     "output_type": "stream",
     "text": [
      "\n",
      "WARNING ⚠️ inference results will accumulate in RAM unless `stream=True` is passed, causing potential out-of-memory\n",
      "errors for large sources or long-running streams and videos. See https://docs.ultralytics.com/modes/predict/ for help.\n",
      "\n",
      "Example:\n",
      "    results = model(source=..., stream=True)  # generator of Results objects\n",
      "    for r in results:\n",
      "        boxes = r.boxes  # Boxes object for bbox outputs\n",
      "        masks = r.masks  # Masks object for segment masks outputs\n",
      "        probs = r.probs  # Class probabilities for classification outputs\n",
      "\n",
      "0005d3cc-3c3f-40b9-93c3-46231c3eb813\n",
      "tensor([[383.9973, 287.2116, 118.8094, 178.9754]])\n",
      "tensor([0.3058])\n"
     ]
    }
   ],
   "source": [
    "DATASET_DIR = './dataset/'\n",
    "MODEL_PATH = './weights/best.pt'\n",
    "TEST_IMG_DIR = './test_images/'\n",
    "\n",
    "model = YOLO(MODEL_PATH)\n",
    "results = model(TEST_IMG_DIR, verbose=False)\n",
    "\n",
    "def get_id_from_path(path):\n",
    "    return os.path.splitext(os.path.basename(path))[0]\n",
    "\n",
    "print(get_id_from_path(results[1].path))\n",
    "print(results[1].boxes.xywh)\n",
    "print(results[1].boxes.conf)"
   ]
  },
  {
   "cell_type": "code",
   "execution_count": 10,
   "metadata": {},
   "outputs": [
    {
     "name": "stderr",
     "output_type": "stream",
     "text": [
      "100%|██████████| 3000/3000 [00:00<00:00, 3305.91it/s]\n"
     ]
    }
   ],
   "source": [
    "with open('submission.csv', 'w') as file:\n",
    "    file.write(\"patientId,PredictionString\\n\")\n",
    "\n",
    "    for result in tqdm(results):\n",
    "        line = get_id_from_path(result.path) + ','\n",
    "        \n",
    "        for conf, xywh in zip(result.boxes.conf, result.boxes.xywh):\n",
    "            x, y, w, h = xywh\n",
    "            line += f\"{conf:.2f} {x:.2f} {y:.2f} {w:.2f} {h:.2f} \"\n",
    "            \n",
    "        line = line.strip()\n",
    "        file.write(line+\"\\n\")"
   ]
  }
 ],
 "metadata": {
  "kernelspec": {
   "display_name": ".env",
   "language": "python",
   "name": "python3"
  },
  "language_info": {
   "codemirror_mode": {
    "name": "ipython",
    "version": 3
   },
   "file_extension": ".py",
   "mimetype": "text/x-python",
   "name": "python",
   "nbconvert_exporter": "python",
   "pygments_lexer": "ipython3",
   "version": "3.8.10"
  }
 },
 "nbformat": 4,
 "nbformat_minor": 2
}
